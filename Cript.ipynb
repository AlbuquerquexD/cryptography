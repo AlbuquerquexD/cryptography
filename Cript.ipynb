{
  "cells": [
    {
      "cell_type": "markdown",
      "metadata": {
        "id": "view-in-github",
        "colab_type": "text"
      },
      "source": [
        "<a href=\"https://colab.research.google.com/github/AlbuquerquexD/cryptography/blob/main/Cript.ipynb\" target=\"_parent\"><img src=\"https://colab.research.google.com/assets/colab-badge.svg\" alt=\"Open In Colab\"/></a>"
      ]
    },
    {
      "cell_type": "markdown",
      "metadata": {
        "id": "-KStSEF40YjZ"
      },
      "source": [
        "# Atividades da disciplina de Criptografia"
      ]
    },
    {
      "cell_type": "markdown",
      "metadata": {
        "id": "M-RwRxaeCscj"
      },
      "source": [
        "##1) Limpar texto, remover acentos e caracteres"
      ]
    },
    {
      "cell_type": "code",
      "execution_count": null,
      "metadata": {
        "colab": {
          "base_uri": "https://localhost:8080/"
        },
        "id": "o1CClaHB0e8_",
        "outputId": "af309883-1ed6-4c98-96a9-474377d125d1"
      },
      "outputs": [
        {
          "name": "stdout",
          "output_type": "stream",
          "text": [
            "Digite um texto para ser limpo: AA$puripuriçÊ\n",
            "AApuripuricE\n"
          ]
        }
      ],
      "source": [
        "# 1) limpar texto, remover acentos e caracteres\n",
        "\n",
        "\n",
        "def limpar_texto(texto):\n",
        "\n",
        "  \"\"\" Remove acentos e caracteres especiais de um texto e retorna o texto limpo. \"\"\"\n",
        "\n",
        "  acentos = 'áàãâéèêíìóòõôúùûçÁÀÃÂÉÈÊÍÌÓÒÕÔÚÙÛÇ'\n",
        "  sem_acentos = 'aaaaeeeiioooouuucAAAAEEEIIOOOOUUUC'\n",
        "\n",
        "\n",
        "  caracteres = \"{,/\\|?}$.!?,#@&%*()_-=+%¨¨\" \"ªº°' '\"\n",
        "  texto_limpo = \"\"\n",
        "\n",
        "  tabela = str.maketrans(acentos, sem_acentos)\n",
        "  texto_sem_acentos = texto.translate(tabela)\n",
        "\n",
        "  for letra in texto_sem_acentos:\n",
        "    if letra not in caracteres:\n",
        "        texto_limpo += letra\n",
        "\n",
        "\n",
        "  return texto_limpo\n",
        "\n",
        "\n",
        "texto = input(\"Digite um texto para ser limpo: \")\n",
        "print(limpar_texto(texto))\n"
      ]
    },
    {
      "cell_type": "markdown",
      "metadata": {
        "id": "-pEWySfGmd94"
      },
      "source": [
        "##2) Cifra escolhida: Cifra de transiposição de coluna\n",
        "\n",
        "> Bloco com recuo\n",
        "\n",
        "\n"
      ]
    },
    {
      "cell_type": "code",
      "execution_count": null,
      "metadata": {
        "id": "hOZaTNnpmZkp",
        "colab": {
          "base_uri": "https://localhost:8080/"
        },
        "outputId": "699d279d-81b0-44f3-c62e-17fd690798c2"
      },
      "outputs": [
        {
          "output_type": "stream",
          "name": "stdout",
          "text": [
            "\n",
            "Mensagem cifrada: n90nq1ppeu ined_6h4.du0aaseaadnoed o.r - bPiCtr_ e6r ãpsoaatoer_d ,Nad,eam v ne_ o4 ia1rre. !ac.j hmEore rróm,a_u13as e dqara n_\n",
            "Mensagem original: 6 de junho de 1944, 6h30. Normandia. Esquadrão 101, prepare-se para o desembarque. Para a vitória! Comandante, encerrando.\n"
          ]
        }
      ],
      "source": [
        "import math\n",
        "\n",
        "def limpar_texto(texto):\n",
        "  caracteres = \"_\"\n",
        "  texto_limpo = \"\"\n",
        "\n",
        "  for letra in texto:\n",
        "    if letra not in caracteres:\n",
        "        texto_limpo += letra\n",
        "\n",
        "  return texto_limpo\n",
        "\n",
        "def fatiamento_texto(mensagem, op):\n",
        "    return [mensagem[i:i + op] for i in range(0, len(mensagem), op)]\n",
        "\n",
        "class CifraDeTransposicaoColunar:\n",
        "    def __init__(self, mensagem, chave):\n",
        "        self.mensagem = mensagem\n",
        "        self.chave = chave\n",
        "        self.tam_mensagem = len(self.mensagem)\n",
        "        self.tam_chave = len(self.chave)\n",
        "        self.col = self.tam_chave\n",
        "        self.li = int(math.ceil(self.tam_mensagem / self.tam_chave))\n",
        "\n",
        "    def criptrografando(self):\n",
        "        tam_matx = self.col * self.li\n",
        "        if self.tam_mensagem < tam_matx:\n",
        "            falta = tam_matx - self.tam_mensagem\n",
        "            self.mensagem += \"_\" * falta\n",
        "\n",
        "        matriz_palavra = fatiamento_texto(self.mensagem, self.col)\n",
        "\n",
        "        palavras_das_col = ''\n",
        "        for i in range(len(matriz_palavra[0])):\n",
        "            for j in range(len(matriz_palavra)):\n",
        "                palavras_das_col += matriz_palavra[j][i]\n",
        "\n",
        "        fatiando_palavras_das_col = fatiamento_texto(palavras_das_col, self.li)\n",
        "\n",
        "        dic_chave = dict()\n",
        "        contador = 0\n",
        "\n",
        "        for palavra in fatiando_palavras_das_col:\n",
        "          id = self.chave[contador]\n",
        "          dic_chave[id] = palavra\n",
        "          contador+=1\n",
        "\n",
        "        chave_ordenada = sorted(dic_chave)\n",
        "\n",
        "        cifrando_texto_com_dic = []\n",
        "\n",
        "\n",
        "        for elemento in chave_ordenada:\n",
        "          cifrando_texto_com_dic.append(dic_chave[elemento])\n",
        "\n",
        "        crifra = ''.join(cifrando_texto_com_dic)\n",
        "\n",
        "        return crifra\n",
        "\n",
        "\n",
        "    def descriptografando(self):\n",
        "      matrix_mensagem_criptografada = fatiamento_texto(self.mensagem, self.li)\n",
        "      dados_chave_colunas = dict()\n",
        "\n",
        "      chave_ordenada = sorted(self.chave)\n",
        "\n",
        "      contador = 0\n",
        "      for elemento in matrix_mensagem_criptografada:\n",
        "        id_chave = chave_ordenada[contador]\n",
        "        dados_chave_colunas[id_chave] = elemento\n",
        "        contador+=1\n",
        "\n",
        "      lista_chave_ordenada = []\n",
        "\n",
        "      for i in (self.chave):\n",
        "        lista_chave_ordenada.append(dados_chave_colunas[i])\n",
        "\n",
        "      try:\n",
        "        contador_while = 0\n",
        "        descriptografando = ''\n",
        "        while contador_while < len(lista_chave_ordenada[0]):\n",
        "            for linha in lista_chave_ordenada:\n",
        "              descriptografando += (linha[contador_while])\n",
        "            contador_while += 1\n",
        "        return limpar_texto(descriptografando)\n",
        "\n",
        "      except Exception as e:\n",
        "        return f'Ocorreu Algum erro, verifique se a chave escolhida cumpre com os requisitos.'\n",
        "\n",
        "\n",
        "mensagem = '6 de junho de 1944, 6h30. Normandia. Esquadrão 101, prepare-se para o desembarque. Para a vitória! Comandante, encerrando.'\n",
        "\n",
        "# Não suporta chaves com letras ou caracteres repetidos, pois está sendo usado o dicionário, e causará erro na hora de descriptografar.\n",
        "chave = 'Aliados@'\n",
        "\n",
        "# Criando objeto para fazer a cifra\n",
        "c = CifraDeTransposicaoColunar(mensagem, chave)\n",
        "cifrando = c.criptrografando()\n",
        "\n",
        "# Criando objeto para fazer a descriptrografia, vai receber o texto cifrado.\n",
        "mensagem_cifrada = cifrando\n",
        "d = CifraDeTransposicaoColunar(mensagem_cifrada, chave)\n",
        "descifrando = d.descriptografando()\n",
        "\n",
        "\n",
        "# print(f'Mensagem para cifrar: {mensagem}\\nMensagem cifrada: {cifrando}')\n",
        "print('')\n",
        "print(f'Mensagem cifrada: {mensagem_cifrada}\\nMensagem original: {descifrando}')\n"
      ]
    },
    {
      "cell_type": "code",
      "source": [],
      "metadata": {
        "id": "wV0aM8YrpmEF"
      },
      "execution_count": null,
      "outputs": []
    },
    {
      "cell_type": "markdown",
      "source": [
        "## 3) Quebra da cifra de deslocamento\n",
        "## Alunos: Antony Albuquerque e João Manoel"
      ],
      "metadata": {
        "id": "1XVneGqtpqaI"
      }
    },
    {
      "cell_type": "code",
      "source": [
        "def limpar_texto(texto):\n",
        "\n",
        "  \"\"\" Remove acentos e caracteres especiais de um texto e retorna o texto limpo. \"\"\"\n",
        "\n",
        "  acentos = 'áàãâéèêíìóòõôúùûçÁÀÃÂÉÈÊÍÌÓÒÕÔÚÙÛÇ'\n",
        "  sem_acentos = 'aaaaeeeiioooouuucAAAAEEEIIOOOOUUUC'\n",
        "\n",
        "\n",
        "  caracteres = \":{,/\\|?}$.!?,#@&%*()_-=+%¨¨\" \"ªº°' '0123456789\"\n",
        "  texto_limpo = \"\"\n",
        "\n",
        "  tabela = str.maketrans(acentos, sem_acentos)\n",
        "  texto_sem_acentos = texto.translate(tabela)\n",
        "\n",
        "  for letra in texto_sem_acentos:\n",
        "    if letra not in caracteres:\n",
        "        texto_limpo += letra\n",
        "\n",
        "\n",
        "  return texto_limpo\n"
      ],
      "metadata": {
        "id": "Tnx9itLapsxl"
      },
      "execution_count": null,
      "outputs": []
    },
    {
      "cell_type": "markdown",
      "source": [],
      "metadata": {
        "id": "-nYHpTEIqOZc"
      }
    },
    {
      "cell_type": "code",
      "source": [
        "# Texto de aproximandamento 4000 letras\n",
        "texto_4000_letras = 'A Revolução Tecnológica e seu Impacto na Sociedade Nos últimos anos, temos testemunhado uma revolução tecnológica sem precedentes que está moldando a sociedade de maneiras profundas e duradouras. A tecnologia está avançando a uma velocidade impressionante, transformando a forma como vivemos, trabalhamos e nos relacionamos. Neste texto, exploraremos o impacto dessa revolução tecnológica em diferentes aspectos da vida cotidiana e discutiremos as implicações, desafios e oportunidades que ela traz. 1. Comunicação e Conectividade A revolução tecnológica trouxe consigo um aumento sem precedentes na comunicação e conectividade. Smartphones, mídias sociais e aplicativos de mensagens instantâneas tornaram mais fácil do que nunca nos conectarmos com pessoas ao redor do mundo. Isso tem implicações profundas em nossas vidas, desde como mantemos contato com amigos e familiares até como fazemos negócios globalmente. No entanto, também trouxe desafios, como a privacidade e a dependência excessiva da tecnologia. 2. Trabalho e Automação A automação e a inteligência artificial estão transformando a natureza do trabalho. Muitos empregos estão sendo automatizados, o que levanta questões sobre o futuro do emprego e da economia. Por outro lado, a tecnologia está criando novas oportunidades e campos de trabalho. A capacidade de trabalhar remotamente e o surgimento de gig economy estão redefinindo a forma como ganhamos a vida. 3. Educação e Aprendizado A tecnologia está revolucionando a educação e o aprendizado. Plataformas de ensino online, aulas virtuais e recursos de aprendizado digital estão democratizando o acesso à educação. No entanto, isso também levanta questões sobre a qualidade da educação e o impacto nas instituições educacionais tradicionais. Como equilibrar a tecnologia com métodos de ensino mais tradicionais é um desafio em constante evolução. 4. Saúde e Medicina A tecnologia está desempenhando um papel fundamental na melhoria da assistência médica. Desde dispositivos médicos avançados até diagnósticos por inteligência artificial, a medicina está se beneficiando de inovações tecnológicas. No entanto, também existem preocupações sobre questões éticas, como a privacidade de dados de pacientes e a disseminação de informações médicas imprecisas na internet. 5. Meio Ambiente e Sustentabilidade A tecnologia também desempenha um papel crítico na abordagem de desafios ambientais. Soluções de energia limpa, monitoramento ambiental e práticas agrícolas sustentáveis são possíveis graças à tecnologia. No entanto, o consumo de recursos para produzir dispositivos eletrônicos e a gestão de resíduos eletrônicos representam desafios significativos para a sustentabilidade. 6. Privacidade e Segurança A coleta massiva de dados e a interconectividade levantam sérias preocupações sobre a privacidade e segurança dos dados. As violações de dados se tornaram comuns, e a coleta de informações pessoais por grandes empresas de tecnologia levanta questões sobre quem detém o poder sobre nossos dados e como eles são usados. 7. Cultura e Entretenimento A revolução tecnológica também transformou a forma como consumimos cultura e entretenimento. Streaming de vídeo, música sob demanda e jogos online se tornaram onipresentes. Isso criou novas oportunidades para criadores de conteúdo, mas também levantou questões sobre a monetização e os direitos autorais. 8. Sociedade Digital e Desigualdade A divisão digital entre aqueles que têm acesso à tecnologia e aqueles que não têm está se tornando uma nova forma de desigualdade. O acesso à internet e dispositivos tecnológicos é essencial para participar plenamente da sociedade moderna. A falta de acesso pode resultar em exclusão de oportunidades econômicas e sociais. 9. Ética e Responsabilidade A revolução tecnológica também levanta questões éticas fundamentais. A inteligência artificial, por exemplo, levanta preocupações sobre decisões automatizadas e preconceitos algorítmicos. As empresas de tecnologia também são confrontadas com questões de responsabilidade em relação ao conteúdo que é compartilhado em suas plataformas. 10. Futuro da Revolução Tecnológica O futuro da revolução tecnológica é incerto, mas é claro que a tecnologia continuará a desempenhar um papel central em nossas vidas. Avanços em áreas como computação quântica, biotecnologia e energia limpa estão no horizonte, trazendo a promessa de mudanças ainda mais profundas. Conclusão: A revolução tecnológica está remodelando nossa sociedade de maneiras inimagináveis. Ela oferece oportunidades incríveis, desde melhorias na assistência médica até novas formas de comunicação. No entanto, também traz consigo desafios significativos, como questões de privacidade, desigualdade digital e dilemas éticos. À medida que avançamos nessa era de mudanças rápidas, é fundamental que abordemos esses desafios com cuidado e responsabilidade, para garantir que a tecnologia beneficie a humanidade como um todo.'\n",
        "texto = texto_4000_letras.upper()\n",
        "frase = limpar_texto(texto)"
      ],
      "metadata": {
        "id": "FFy_f4-du5Sk"
      },
      "execution_count": null,
      "outputs": []
    },
    {
      "cell_type": "code",
      "source": [
        "# Função da cifra de deslocamento para obtermos o texto cifrado\n",
        "alfabeto_br = 'ABCDEFGHIJKLMNOPQRSTUVWXYZ'\n",
        "\n",
        "chave = 23\n",
        "\n",
        "def cifra_deslocamento(mensagem, alfabeto, numkey):\n",
        "  txt_cifrado = ''\n",
        "  for i in mensagem:\n",
        "      id = alfabeto.index(i)\n",
        "      id = (id + numkey) % len(alfabeto)\n",
        "      txt_cifrado += alfabeto[id]\n",
        "  return txt_cifrado\n",
        "\n",
        "\n",
        "texto_cifrado = cifra_deslocamento(frase,alfabeto_br,chave)\n",
        "\n",
        "print(f'Mensagem Cifrada: {texto_cifrado}')\n"
      ],
      "metadata": {
        "id": "D0TX2k2vpwO9",
        "colab": {
          "base_uri": "https://localhost:8080/"
        },
        "outputId": "f234328d-4c43-4a3b-916e-10f6a2bb292a"
      },
      "execution_count": null,
      "outputs": [
        {
          "output_type": "stream",
          "name": "stdout",
          "text": [
            "Mensagem Cifrada: XOBSLIRZXLQBZKLILDFZXBPBRFJMXZQLKXPLZFBAXABKLPRIQFJLPXKLPQBJLPQBPQBJRKEXALRJXOBSLIRZXLQBZKLILDFZXPBJMOBZBABKQBPNRBBPQXJLIAXKALXPLZFBAXABABJXKBFOXPMOLCRKAXPBAROXALROXPXQBZKLILDFXBPQXXSXKZXKALXRJXSBILZFAXABFJMOBPPFLKXKQBQOXKPCLOJXKALXCLOJXZLJLSFSBJLPQOXYXIEXJLPBKLPOBIXZFLKXJLPKBPQBQBUQLBUMILOXOBJLPLFJMXZQLABPPXOBSLIRZXLQBZKLILDFZXBJAFCBOBKQBPXPMBZQLPAXSFAXZLQFAFXKXBAFPZRQFOBJLPXPFJMIFZXZLBPABPXCFLPBLMLOQRKFAXABPNRBBIXQOXWZLJRKFZXZXLBZLKBZQFSFAXABXOBSLIRZXLQBZKLILDFZXQOLRUBZLKPFDLRJXRJBKQLPBJMOBZBABKQBPKXZLJRKFZXZXLBZLKBZQFSFAXABPJXOQMELKBPJFAFXPPLZFXFPBXMIFZXQFSLPABJBKPXDBKPFKPQXKQXKBXPQLOKXOXJJXFPCXZFIALNRBKRKZXKLPZLKBZQXOJLPZLJMBPPLXPXLOBALOALJRKALFPPLQBJFJMIFZXZLBPMOLCRKAXPBJKLPPXPSFAXPABPABZLJLJXKQBJLPZLKQXQLZLJXJFDLPBCXJFIFXOBPXQBZLJLCXWBJLPKBDLZFLPDILYXIJBKQBKLBKQXKQLQXJYBJQOLRUBABPXCFLPZLJLXMOFSXZFAXABBXABMBKABKZFXBUZBPPFSXAXQBZKLILDFXQOXYXIELBXRQLJXZXLXXRQLJXZXLBXFKQBIFDBKZFXXOQFCFZFXIBPQXLQOXKPCLOJXKALXKXQROBWXALQOXYXIELJRFQLPBJMOBDLPBPQXLPBKALXRQLJXQFWXALPLNRBIBSXKQXNRBPQLBPPLYOBLCRQROLALBJMOBDLBAXBZLKLJFXMLOLRQOLIXALXQBZKLILDFXBPQXZOFXKALKLSXPLMLOQRKFAXABPBZXJMLPABQOXYXIELXZXMXZFAXABABQOXYXIEXOOBJLQXJBKQBBLPRODFJBKQLABDFDBZLKLJVBPQXLOBABCFKFKALXCLOJXZLJLDXKEXJLPXSFAXBARZXZXLBXMOBKAFWXALXQBZKLILDFXBPQXOBSLIRZFLKXKALXBARZXZXLBLXMOBKAFWXALMIXQXCLOJXPABBKPFKLLKIFKBXRIXPSFOQRXFPBOBZROPLPABXMOBKAFWXALAFDFQXIBPQXLABJLZOXQFWXKALLXZBPPLXBARZXZXLKLBKQXKQLFPPLQXJYBJIBSXKQXNRBPQLBPPLYOBXNRXIFAXABAXBARZXZXLBLFJMXZQLKXPFKPQFQRFZLBPBARZXZFLKXFPQOXAFZFLKXFPZLJLBNRFIFYOXOXQBZKLILDFXZLJJBQLALPABBKPFKLJXFPQOXAFZFLKXFPBRJABPXCFLBJZLKPQXKQBBSLIRZXLPXRABBJBAFZFKXXQBZKLILDFXBPQXABPBJMBKEXKALRJMXMBICRKAXJBKQXIKXJBIELOFXAXXPPFPQBKZFXJBAFZXABPABAFPMLPFQFSLPJBAFZLPXSXKZXALPXQBAFXDKLPQFZLPMLOFKQBIFDBKZFXXOQFCFZFXIXJBAFZFKXBPQXPBYBKBCFZFXKALABFKLSXZLBPQBZKLILDFZXPKLBKQXKQLQXJYBJBUFPQBJMOBLZRMXZLBPPLYOBNRBPQLBPBQFZXPZLJLXMOFSXZFAXABABAXALPABMXZFBKQBPBXAFPPBJFKXZXLABFKCLOJXZLBPJBAFZXPFJMOBZFPXPKXFKQBOKBQJBFLXJYFBKQBBPRPQBKQXYFIFAXABXQBZKLILDFXQXJYBJABPBJMBKEXRJMXMBIZOFQFZLKXXYLOAXDBJABABPXCFLPXJYFBKQXFPPLIRZLBPABBKBODFXIFJMXJLKFQLOXJBKQLXJYFBKQXIBMOXQFZXPXDOFZLIXPPRPQBKQXSBFPPXLMLPPFSBFPDOXZXPXQBZKLILDFXKLBKQXKQLLZLKPRJLABOBZROPLPMXOXMOLARWFOAFPMLPFQFSLPBIBQOLKFZLPBXDBPQXLABOBPFARLPBIBQOLKFZLPOBMOBPBKQXJABPXCFLPPFDKFCFZXQFSLPMXOXXPRPQBKQXYFIFAXABMOFSXZFAXABBPBDROXKZXXZLIBQXJXPPFSXABAXALPBXFKQBOZLKBZQFSFAXABIBSXKQXJPBOFXPMOBLZRMXZLBPPLYOBXMOFSXZFAXABBPBDROXKZXALPAXALPXPSFLIXZLBPABAXALPPBQLOKXOXJZLJRKPBXZLIBQXABFKCLOJXZLBPMBPPLXFPMLODOXKABPBJMOBPXPABQBZKLILDFXIBSXKQXNRBPQLBPPLYOBNRBJABQBJLMLABOPLYOBKLPPLPAXALPBZLJLBIBPPXLRPXALPZRIQROXBBKQOBQBKFJBKQLXOBSLIRZXLQBZKLILDFZXQXJYBJQOXKPCLOJLRXCLOJXZLJLZLKPRJFJLPZRIQROXBBKQOBQBKFJBKQLPQOBXJFKDABSFABLJRPFZXPLYABJXKAXBGLDLPLKIFKBPBQLOKXOXJLKFMOBPBKQBPFPPLZOFLRKLSXPLMLOQRKFAXABPMXOXZOFXALOBPABZLKQBRALJXPQXJYBJIBSXKQLRNRBPQLBPPLYOBXJLKBQFWXZXLBLPAFOBFQLPXRQLOXFPPLZFBAXABAFDFQXIBABPFDRXIAXABXAFSFPXLAFDFQXIBKQOBXNRBIBPNRBQBJXZBPPLXQBZKLILDFXBXNRBIBPNRBKXLQBJBPQXPBQLOKXKALRJXKLSXCLOJXABABPFDRXIAXABLXZBPPLXFKQBOKBQBAFPMLPFQFSLPQBZKLILDFZLPBBPPBKZFXIMXOXMXOQFZFMXOMIBKXJBKQBAXPLZFBAXABJLABOKXXCXIQXABXZBPPLMLABOBPRIQXOBJBUZIRPXLABLMLOQRKFAXABPBZLKLJFZXPBPLZFXFPBQFZXBOBPMLKPXYFIFAXABXOBSLIRZXLQBZKLILDFZXQXJYBJIBSXKQXNRBPQLBPBQFZXPCRKAXJBKQXFPXFKQBIFDBKZFXXOQFCFZFXIMLOBUBJMILIBSXKQXMOBLZRMXZLBPPLYOBABZFPLBPXRQLJXQFWXAXPBMOBZLKZBFQLPXIDLOFQJFZLPXPBJMOBPXPABQBZKLILDFXQXJYBJPXLZLKCOLKQXAXPZLJNRBPQLBPABOBPMLKPXYFIFAXABBJOBIXZXLXLZLKQBRALNRBBZLJMXOQFIEXALBJPRXPMIXQXCLOJXPCRQROLAXOBSLIRZXLQBZKLILDFZXLCRQROLAXOBSLIRZXLQBZKLILDFZXBFKZBOQLJXPBZIXOLNRBXQBZKLILDFXZLKQFKRXOXXABPBJMBKEXORJMXMBIZBKQOXIBJKLPPXPSFAXPXSXKZLPBJXOBXPZLJLZLJMRQXZXLNRXKQFZXYFLQBZKLILDFXBBKBODFXIFJMXBPQXLKLELOFWLKQBQOXWBKALXMOLJBPPXABJRAXKZXPXFKAXJXFPMOLCRKAXPZLKZIRPXLXOBSLIRZXLQBZKLILDFZXBPQXOBJLABIXKALKLPPXPLZFBAXABABJXKBFOXPFKFJXDFKXSBFPBIXLCBOBZBLMLOQRKFAXABPFKZOFSBFPABPABJBIELOFXPKXXPPFPQBKZFXJBAFZXXQBKLSXPCLOJXPABZLJRKFZXZXLKLBKQXKQLQXJYBJQOXWZLKPFDLABPXCFLPPFDKFCFZXQFSLPZLJLNRBPQLBPABMOFSXZFAXABABPFDRXIAXABAFDFQXIBAFIBJXPBQFZLPXJBAFAXNRBXSXKZXJLPKBPPXBOXABJRAXKZXPOXMFAXPBCRKAXJBKQXINRBXYLOABJLPBPPBPABPXCFLPZLJZRFAXALBOBPMLKPXYFIFAXABMXOXDXOXKQFONRBXQBZKLILDFXYBKBCFZFBXERJXKFAXABZLJLRJQLAL\n"
          ]
        }
      ]
    },
    {
      "cell_type": "code",
      "source": [
        "# Contando letras do texto cifrado e tirando a porcentagem\n",
        "\n",
        "contando_letras = [texto_cifrado.count(i)/ len(frase) for i in alfabeto_br]\n",
        "# print(contando_letras)\n",
        "q = contando_letras"
      ],
      "metadata": {
        "id": "_635kzOBsAk5"
      },
      "execution_count": null,
      "outputs": []
    },
    {
      "cell_type": "code",
      "source": [
        "# Comparando a porcentagem das letras br com o texto cifrado para obter o valor de deslocamento da chave.\n",
        "\n",
        "freq_letras_br = [14.63,1.04,3.88,4.99,12.57,1.02,1.3,1.28,6.18,0.4,0.02,2.78,4.74,5.05,10.73,2.52,1.2,6.53,7.81,4.34,4.63,1.67,0.01,0.21,0.01,0.47]\n",
        "p = [i/100 for i in freq_letras_br] # Passando para o decimal as frequência do alfabeto br\n",
        "\n",
        "alf_valor = 0.073 # Valor aproximado do alfabeto br\n",
        "\n",
        "index = []\n",
        "for k in range(len(alfabeto_br)):\n",
        "    i = [p[j] * q[(j + k) % len(alfabeto_br)] for j in range(len(alfabeto_br))]\n",
        "    index.append(sum(i))\n",
        "\n",
        "valor_aproximado = min(index, key=lambda x: abs(x - alf_valor))\n",
        "valor_chave_deslocamento = index.index(valor_aproximado)\n",
        "\n",
        "print(f'O valor do deslocamento descoberto foi de {valor_chave_deslocamento}')\n"
      ],
      "metadata": {
        "colab": {
          "base_uri": "https://localhost:8080/"
        },
        "id": "-whsFN81vcSC",
        "outputId": "3f7cde5f-d8ee-4e24-b5eb-7a8617a257cb"
      },
      "execution_count": null,
      "outputs": [
        {
          "output_type": "stream",
          "name": "stdout",
          "text": [
            "O valor do deslocamento descoberto foi de 23\n"
          ]
        }
      ]
    },
    {
      "cell_type": "code",
      "source": [
        "# Usando o valor descoberto do deslocamento para decifrar\n",
        "\n",
        "chave_decifrar = -valor_chave_deslocamento\n",
        "\n",
        "txt_decifrado = cifra_deslocamento(texto_cifrado,alfabeto_br, chave_decifrar )\n",
        "print(f'Texto decifrado {txt_decifrado}')"
      ],
      "metadata": {
        "colab": {
          "base_uri": "https://localhost:8080/"
        },
        "id": "O-U1l2eRsJyY",
        "outputId": "eecd5bc7-88fc-4e58-a629-684dc5e44625"
      },
      "execution_count": null,
      "outputs": [
        {
          "output_type": "stream",
          "name": "stdout",
          "text": [
            "Texto decifrado AREVOLUCAOTECNOLOGICAESEUIMPACTONASOCIEDADENOSULTIMOSANOSTEMOSTESTEMUNHADOUMAREVOLUCAOTECNOLOGICASEMPRECEDENTESQUEESTAMOLDANDOASOCIEDADEDEMANEIRASPROFUNDASEDURADOURASATECNOLOGIAESTAAVANCANDOAUMAVELOCIDADEIMPRESSIONANTETRANSFORMANDOAFORMACOMOVIVEMOSTRABALHAMOSENOSRELACIONAMOSNESTETEXTOEXPLORAREMOSOIMPACTODESSAREVOLUCAOTECNOLOGICAEMDIFERENTESASPECTOSDAVIDACOTIDIANAEDISCUTIREMOSASIMPLICACOESDESAFIOSEOPORTUNIDADESQUEELATRAZCOMUNICACAOECONECTIVIDADEAREVOLUCAOTECNOLOGICATROUXECONSIGOUMAUMENTOSEMPRECEDENTESNACOMUNICACAOECONECTIVIDADESMARTPHONESMIDIASSOCIAISEAPLICATIVOSDEMENSAGENSINSTANTANEASTORNARAMMAISFACILDOQUENUNCANOSCONECTARMOSCOMPESSOASAOREDORDOMUNDOISSOTEMIMPLICACOESPROFUNDASEMNOSSASVIDASDESDECOMOMANTEMOSCONTATOCOMAMIGOSEFAMILIARESATECOMOFAZEMOSNEGOCIOSGLOBALMENTENOENTANTOTAMBEMTROUXEDESAFIOSCOMOAPRIVACIDADEEADEPENDENCIAEXCESSIVADATECNOLOGIATRABALHOEAUTOMACAOAAUTOMACAOEAINTELIGENCIAARTIFICIALESTAOTRANSFORMANDOANATUREZADOTRABALHOMUITOSEMPREGOSESTAOSENDOAUTOMATIZADOSOQUELEVANTAQUESTOESSOBREOFUTURODOEMPREGOEDAECONOMIAPOROUTROLADOATECNOLOGIAESTACRIANDONOVASOPORTUNIDADESECAMPOSDETRABALHOACAPACIDADEDETRABALHARREMOTAMENTEEOSURGIMENTODEGIGECONOMYESTAOREDEFININDOAFORMACOMOGANHAMOSAVIDAEDUCACAOEAPRENDIZADOATECNOLOGIAESTAREVOLUCIONANDOAEDUCACAOEOAPRENDIZADOPLATAFORMASDEENSINOONLINEAULASVIRTUAISERECURSOSDEAPRENDIZADODIGITALESTAODEMOCRATIZANDOOACESSOAEDUCACAONOENTANTOISSOTAMBEMLEVANTAQUESTOESSOBREAQUALIDADEDAEDUCACAOEOIMPACTONASINSTITUICOESEDUCACIONAISTRADICIONAISCOMOEQUILIBRARATECNOLOGIACOMMETODOSDEENSINOMAISTRADICIONAISEUMDESAFIOEMCONSTANTEEVOLUCAOSAUDEEMEDICINAATECNOLOGIAESTADESEMPENHANDOUMPAPELFUNDAMENTALNAMELHORIADAASSISTENCIAMEDICADESDEDISPOSITIVOSMEDICOSAVANCADOSATEDIAGNOSTICOSPORINTELIGENCIAARTIFICIALAMEDICINAESTASEBENEFICIANDODEINOVACOESTECNOLOGICASNOENTANTOTAMBEMEXISTEMPREOCUPACOESSOBREQUESTOESETICASCOMOAPRIVACIDADEDEDADOSDEPACIENTESEADISSEMINACAODEINFORMACOESMEDICASIMPRECISASNAINTERNETMEIOAMBIENTEESUSTENTABILIDADEATECNOLOGIATAMBEMDESEMPENHAUMPAPELCRITICONAABORDAGEMDEDESAFIOSAMBIENTAISSOLUCOESDEENERGIALIMPAMONITORAMENTOAMBIENTALEPRATICASAGRICOLASSUSTENTAVEISSAOPOSSIVEISGRACASATECNOLOGIANOENTANTOOCONSUMODERECURSOSPARAPRODUZIRDISPOSITIVOSELETRONICOSEAGESTAODERESIDUOSELETRONICOSREPRESENTAMDESAFIOSSIGNIFICATIVOSPARAASUSTENTABILIDADEPRIVACIDADEESEGURANCAACOLETAMASSIVADEDADOSEAINTERCONECTIVIDADELEVANTAMSERIASPREOCUPACOESSOBREAPRIVACIDADEESEGURANCADOSDADOSASVIOLACOESDEDADOSSETORNARAMCOMUNSEACOLETADEINFORMACOESPESSOAISPORGRANDESEMPRESASDETECNOLOGIALEVANTAQUESTOESSOBREQUEMDETEMOPODERSOBRENOSSOSDADOSECOMOELESSAOUSADOSCULTURAEENTRETENIMENTOAREVOLUCAOTECNOLOGICATAMBEMTRANSFORMOUAFORMACOMOCONSUMIMOSCULTURAEENTRETENIMENTOSTREAMINGDEVIDEOMUSICASOBDEMANDAEJOGOSONLINESETORNARAMONIPRESENTESISSOCRIOUNOVASOPORTUNIDADESPARACRIADORESDECONTEUDOMASTAMBEMLEVANTOUQUESTOESSOBREAMONETIZACAOEOSDIREITOSAUTORAISSOCIEDADEDIGITALEDESIGUALDADEADIVISAODIGITALENTREAQUELESQUETEMACESSOATECNOLOGIAEAQUELESQUENAOTEMESTASETORNANDOUMANOVAFORMADEDESIGUALDADEOACESSOAINTERNETEDISPOSITIVOSTECNOLOGICOSEESSENCIALPARAPARTICIPARPLENAMENTEDASOCIEDADEMODERNAAFALTADEACESSOPODERESULTAREMEXCLUSAODEOPORTUNIDADESECONOMICASESOCIAISETICAERESPONSABILIDADEAREVOLUCAOTECNOLOGICATAMBEMLEVANTAQUESTOESETICASFUNDAMENTAISAINTELIGENCIAARTIFICIALPOREXEMPLOLEVANTAPREOCUPACOESSOBREDECISOESAUTOMATIZADASEPRECONCEITOSALGORITMICOSASEMPRESASDETECNOLOGIATAMBEMSAOCONFRONTADASCOMQUESTOESDERESPONSABILIDADEEMRELACAOAOCONTEUDOQUEECOMPARTILHADOEMSUASPLATAFORMASFUTURODAREVOLUCAOTECNOLOGICAOFUTURODAREVOLUCAOTECNOLOGICAEINCERTOMASECLAROQUEATECNOLOGIACONTINUARAADESEMPENHARUMPAPELCENTRALEMNOSSASVIDASAVANCOSEMAREASCOMOCOMPUTACAOQUANTICABIOTECNOLOGIAEENERGIALIMPAESTAONOHORIZONTETRAZENDOAPROMESSADEMUDANCASAINDAMAISPROFUNDASCONCLUSAOAREVOLUCAOTECNOLOGICAESTAREMODELANDONOSSASOCIEDADEDEMANEIRASINIMAGINAVEISELAOFERECEOPORTUNIDADESINCRIVEISDESDEMELHORIASNAASSISTENCIAMEDICAATENOVASFORMASDECOMUNICACAONOENTANTOTAMBEMTRAZCONSIGODESAFIOSSIGNIFICATIVOSCOMOQUESTOESDEPRIVACIDADEDESIGUALDADEDIGITALEDILEMASETICOSAMEDIDAQUEAVANCAMOSNESSAERADEMUDANCASRAPIDASEFUNDAMENTALQUEABORDEMOSESSESDESAFIOSCOMCUIDADOERESPONSABILIDADEPARAGARANTIRQUEATECNOLOGIABENEFICIEAHUMANIDADECOMOUMTODO\n"
          ]
        }
      ]
    },
    {
      "cell_type": "markdown",
      "metadata": {
        "id": "s4vQb4ua0cUv"
      },
      "source": [
        "# Testes e rabiscos de códigos das atividades e aulas ( BASTANTE BAGUNÇADO ._. )\n",
        "\n"
      ]
    },
    {
      "cell_type": "markdown",
      "metadata": {
        "id": "QdOiJ4ytC8be"
      },
      "source": [
        "## Testes Aulas"
      ]
    },
    {
      "cell_type": "code",
      "execution_count": null,
      "metadata": {
        "id": "W5jxdUbUDAmj"
      },
      "outputs": [],
      "source": [
        "# pegando em grupos de 2 e trocando a ordem\n",
        "\n",
        "msg = 'antonya'\n",
        "\n",
        "sep = [msg[i:i+2] for i in range(0, len(msg),2)]\n",
        "\n",
        "def funcsep (sep):\n",
        "  cifrado = []\n",
        "  for i in sep:\n",
        "    copy = i\n",
        "    if len(i) == 2:\n",
        "      copy2 = copy[1] + copy[0]\n",
        "      cifrado.append(copy2)\n",
        "\n",
        "  return cifrado\n",
        "\n",
        "# c = funcsep(sep)\n",
        "# d = funcsep(c)\n",
        "\n",
        "# d\n",
        "\n",
        "\n",
        "# msg = 'antonyab'\n",
        "\n",
        "# sep = [msg[i:i+2] for i in range(0, len(msg), 2)]\n",
        "\n",
        "# def funcsep(sep):\n",
        "#     cifrado = []\n",
        "#     for i in sep:\n",
        "#         if len(i) == 2:\n",
        "#             novo_par = i[1] + i[0]  # Troca os caracteres de posição\n",
        "#             cifrado.append(novo_par)\n",
        "#         else:\n",
        "#             cifrado.append(i)  # Mantém caracteres únicos\n",
        "#     return cifrado\n",
        "\n",
        "# resultado = funcsep(sep)\n",
        "# fucinverso = funcsep(resultado)\n",
        "# print(resultado)\n",
        "# print(fucinverso)\n"
      ]
    },
    {
      "cell_type": "code",
      "execution_count": null,
      "metadata": {
        "id": "nD7Drvh5jSPx"
      },
      "outputs": [],
      "source": []
    },
    {
      "cell_type": "code",
      "execution_count": null,
      "metadata": {
        "id": "2v6Lp7nvVGxU"
      },
      "outputs": [],
      "source": [
        "#\n",
        "\n",
        "def cifra():\n",
        "  alfabeto = \"ABCDEFGHIJKLMNOPQRSTUVWXYZ\"\n",
        "  dic = {}\n",
        "  for i,j in enumerate(alfabeto):\n",
        "    dic[j] = i+1\n",
        "\n",
        "  return dic\n",
        "\n",
        "cifra()"
      ]
    },
    {
      "cell_type": "code",
      "execution_count": null,
      "metadata": {
        "colab": {
          "base_uri": "https://localhost:8080/"
        },
        "id": "eeID9QlKx8cE",
        "outputId": "adb7ef03-13aa-484e-bc1c-634b01e8eedb"
      },
      "outputs": [
        {
          "name": "stdout",
          "output_type": "stream",
          "text": [
            "NSZDWTP\n"
          ]
        }
      ],
      "source": [
        "# Cifra de vinegere\n",
        "def vg(mensagem,chave):\n",
        "  alfabeto = \"ABCDEFGHIJKLMNOPQRSTUVWXYZ\"\n",
        "\n",
        "  cifra = ''\n",
        "  for n in range(len(mensagem)):\n",
        "    posicaom = alfabeto.index(mensagem[n])\n",
        "    posicaok = alfabeto.index(chave[n % len(chave)])\n",
        "    d = (posicaom + posicaok)% len(alfabeto)\n",
        "    cifra = cifra + alfabeto[d]\n",
        "\n",
        "  return cifra\n",
        "\n",
        "\n",
        "def vg1(mensagem, chave):\n",
        "    alfabeto = \"ABCDEFGHIJKLMNOPQRSTUVWXYZ\"\n",
        "\n",
        "    cifra = ''\n",
        "    for n in range(len(mensagem)):\n",
        "        posicaom = alfabeto.index(mensagem[n])\n",
        "        posicaok = alfabeto.index(chave[n % len(chave)])\n",
        "        d = (posicaom + posicaok) % len(alfabeto)\n",
        "        cifra = cifra + alfabeto[d]\n",
        "\n",
        "    return cifra\n",
        "\n",
        "# Test your function with the provided values\n",
        "m = 'MARCELO'  # Your message\n",
        "k = 'BSI'      # Your key\n",
        "resultado = vg1(m, k)\n",
        "print(resultado)\n"
      ]
    },
    {
      "cell_type": "code",
      "execution_count": null,
      "metadata": {
        "colab": {
          "base_uri": "https://localhost:8080/",
          "height": 35
        },
        "id": "pQOpCiMNzwOz",
        "outputId": "c20ce52a-9d71-43a1-bae7-d2d4225f7428"
      },
      "outputs": [
        {
          "data": {
            "application/vnd.google.colaboratory.intrinsic+json": {
              "type": "string"
            },
            "text/plain": [
              "'NSZDWTP'"
            ]
          },
          "execution_count": 67,
          "metadata": {},
          "output_type": "execute_result"
        }
      ],
      "source": [
        "m = 'MARCELO'\n",
        "k = 'BSI'\n",
        "vg(m, k)"
      ]
    },
    {
      "cell_type": "markdown",
      "metadata": {
        "id": "UzbxVCFC6dzT"
      },
      "source": [
        "## Testes atividades"
      ]
    },
    {
      "cell_type": "markdown",
      "metadata": {
        "id": "pkH3VQ6oDjxw"
      },
      "source": [
        "### Teste atividade 1 (Atividade de limpar texto, remover acentos e caracteres)"
      ]
    },
    {
      "cell_type": "code",
      "execution_count": null,
      "metadata": {
        "id": "RserwdFzjMup"
      },
      "outputs": [],
      "source": [
        "\n",
        "# ## forma com replace\n",
        "# texto = input(\"Digite um texto: \")\n",
        "# caracteres =  \"{,/\\|?}$.!?,#@&%*()_-=+  ' '\"\n",
        "# for c in caracteres:\n",
        "#     texto = texto.replace(c, '')\n",
        "# texto\n",
        "\n",
        "## forma com join\n",
        "# texto = input(\"Digite um texto: \")\n",
        "# caracteres = \"{,/\\|?}$.!?,#@&%*()_-=+  ' '\"\n",
        "# texto_limpo = ''.join(c for c in texto if c not in caracteres)\n",
        "# print(texto_limpo)\n",
        "\n",
        "\n",
        "\n",
        "# def limpar_texto(texto):\n",
        "#   acentos = 'áàãâéèêíìóòõôúùûçÁÀÃÂÉÈÊÍÌÓÒÕÔÚÙÛÇ'\n",
        "#   sem_acentos = 'aaaaeeeiioooouuucAAAAEEEIIOOOOUUUC'\n",
        "\n",
        "\n",
        "#   caracteres = \"{,/\\|?}$.!?,#@&%*()_-=+  ' '\"\n",
        "#   texto_limpo = \"\"\n",
        "\n",
        "#   tabela = str.maketrans(acentos, sem_acentos)\n",
        "#   texto_sem_acentos = texto.translate(tabela)\n",
        "\n",
        "#   for palavra in texto_sem_acentos:\n",
        "#     if palavra not in caracteres:\n",
        "#         texto_limpo += palavra\n",
        "\n",
        "\n",
        "#   return texto_limpo\n",
        "\n",
        "\n",
        "# texto = input(\"Digite um texto para ser limpo: \")\n",
        "# print(limpar_texto(texto))\n",
        "\n",
        "\n",
        "\n",
        "# 1) limpar texto, remover acentos e caracteres\n",
        "\n",
        "\n",
        "def limpar_texto(texto):\n",
        "\n",
        "  \"\"\" Remove acentos e caracteres especiais de um texto e retorna o texto limpo. \"\"\"\n",
        "\n",
        "  acentos = 'áàãâéèêíìóòõôúùûçÁÀÃÂÉÈÊÍÌÓÒÕÔÚÙÛÇ'\n",
        "  sem_acentos = 'aaaaeeeiioooouuucAAAAEEEIIOOOOUUUC'\n",
        "\n",
        "\n",
        "  caracteres = \"{,/\\|?}$.!?,#@&%*()_-=+%¨¨\" \"ªº°' '\"\n",
        "  texto_limpo = ''\n",
        "\n",
        "  tabela = str.maketrans(acentos, sem_acentos)\n",
        "  texto_sem_acentos = texto.translate(tabela)\n",
        "\n",
        "  for letra in texto_sem_acentos:\n",
        "    if letra not in caracteres:\n",
        "        texto_limpo += letra\n",
        "\n",
        "\n",
        "  return texto_limpo\n",
        "\n",
        "\n",
        "texto = input(\"Digite um texto para ser limpo: \")\n",
        "print(limpar_texto(texto))\n",
        "\n",
        "\n"
      ]
    },
    {
      "cell_type": "code",
      "execution_count": null,
      "metadata": {
        "id": "La_sx-fUv0Cb"
      },
      "outputs": [],
      "source": [
        "a ='AABBbkl'\n",
        "b = '123?|Z@'\n",
        "\n",
        "texto = 'abc'\n",
        "dic = str.maketrans(a,b) # utiliza o Unicode\n",
        "mapeando = texto.translate(dic)\n",
        "\n",
        "dic\n",
        "\n",
        "# Unicode é um padrão de codificação de caracteres que visa representar todos os caracteres de todos os sistemas de escrita do mundo de forma consistente"
      ]
    },
    {
      "cell_type": "code",
      "source": [
        "!pip install unidecode\n"
      ],
      "metadata": {
        "colab": {
          "base_uri": "https://localhost:8080/"
        },
        "id": "EMrM0dXi8Se_",
        "outputId": "b2acd34c-aa0d-48a8-a7b7-b448cb8c75fb"
      },
      "execution_count": null,
      "outputs": [
        {
          "output_type": "stream",
          "name": "stdout",
          "text": [
            "Collecting unidecode\n",
            "  Downloading Unidecode-1.3.7-py3-none-any.whl (235 kB)\n",
            "\u001b[2K     \u001b[90m━━━━━━━━━━━━━━━━━━━━━━━━━━━━━━━━━━━━━━━━\u001b[0m \u001b[32m235.5/235.5 kB\u001b[0m \u001b[31m4.5 MB/s\u001b[0m eta \u001b[36m0:00:00\u001b[0m\n",
            "\u001b[?25hInstalling collected packages: unidecode\n",
            "Successfully installed unidecode-1.3.7\n"
          ]
        }
      ]
    },
    {
      "cell_type": "code",
      "execution_count": null,
      "metadata": {
        "id": "TNEdFmUHhkaG",
        "colab": {
          "base_uri": "https://localhost:8080/",
          "height": 37
        },
        "outputId": "db434450-31d0-448b-de1e-36c22e8f27c3"
      },
      "outputs": [
        {
          "output_type": "execute_result",
          "data": {
            "text/plain": [
              "'aae,i'"
            ],
            "application/vnd.google.colaboratory.intrinsic+json": {
              "type": "string"
            }
          },
          "metadata": {},
          "execution_count": 69
        }
      ],
      "source": [
        "# usando o onecode, tem que baixar o instalar\n",
        "# Onecode\n",
        "from unidecode import unidecode as ud\n",
        "\n",
        "teste = 'aáé,í'\n",
        "\n",
        "saida = ud(teste)\n",
        "\n",
        "saida"
      ]
    },
    {
      "cell_type": "markdown",
      "source": [
        "## Teste atividade 2 (Atividade cifra de transiposição de coluna)"
      ],
      "metadata": {
        "id": "4TuiY5g8SQII"
      }
    },
    {
      "cell_type": "code",
      "execution_count": null,
      "metadata": {
        "colab": {
          "base_uri": "https://localhost:8080/"
        },
        "id": "Ftlb22ngN_A_",
        "outputId": "08ee8b65-b0d3-4232-ce89-4946596138c6"
      },
      "outputs": [
        {
          "name": "stdout",
          "output_type": "stream",
          "text": [
            "Requirement already satisfied: numpy in /usr/local/lib/python3.10/dist-packages (1.23.5)\n"
          ]
        }
      ],
      "source": [
        "!pip install numpy\n"
      ]
    },
    {
      "cell_type": "markdown",
      "source": [],
      "metadata": {
        "id": "TYvbl0iZTBjV"
      }
    },
    {
      "cell_type": "code",
      "execution_count": null,
      "metadata": {
        "id": "8CRSpSPB9GEg"
      },
      "outputs": [],
      "source": [
        "import math\n",
        "\n",
        "# Calcular o teto de um número\n",
        "numero = 4.25\n",
        "teto = math.ceil(numero)\n",
        "print(\"Teto de\", numero, \"é\", teto)\n"
      ]
    },
    {
      "cell_type": "code",
      "execution_count": null,
      "metadata": {
        "colab": {
          "base_uri": "https://localhost:8080/"
        },
        "id": "tQEJhN_BH6_1",
        "outputId": "073fcd61-193d-4acd-a08f-2cf26d1519ac"
      },
      "outputs": [
        {
          "data": {
            "text/plain": [
              "[['AN'], ['TO'], ['NY'], ['a']]"
            ]
          },
          "execution_count": 21,
          "metadata": {},
          "output_type": "execute_result"
        }
      ],
      "source": [
        "texto = 'ANTONY'\n",
        "\n",
        "FATIANDO = [[texto[i:i+2]] for i in range(0,len(texto),2)]\n",
        "\n",
        "FATIANDO\n"
      ]
    },
    {
      "cell_type": "code",
      "source": [],
      "metadata": {
        "id": "u6rd4EY9ekUq"
      },
      "execution_count": null,
      "outputs": []
    },
    {
      "cell_type": "code",
      "execution_count": null,
      "metadata": {
        "colab": {
          "base_uri": "https://localhost:8080/",
          "height": 94
        },
        "id": "5ZKael_f8UZS",
        "outputId": "76c83028-2667-40f7-9b9a-39635eba5dee"
      },
      "outputs": [
        {
          "output_type": "stream",
          "name": "stdout",
          "text": [
            "matriz_palavra [['O', ' ', 'v', 'e'], ['n', 't', 'o', ' '], ['s', 'u', 'a', 'v'], ['e', ' ', 'b', 'a'], ['l', 'a', 'n', 'ç'], ['a', 'v', 'a', ' '], ['a', 's', ' ', 'f'], ['o', 'l', 'h', 'a'], ['s', ' ', 'd', 'a'], ['s', ' ', 'á', 'r'], ['v', 'o', 'r', 'e'], ['s', '.', '_', '_']]\n",
            "['Onselaaossvs', ' tu avsl  o.', 'voabna hdár_', 'e vaç faare_']\n"
          ]
        },
        {
          "output_type": "execute_result",
          "data": {
            "text/plain": [
              "' tu avsl  o.voabna hdár_Onselaaossvse vaç faare_'"
            ],
            "application/vnd.google.colaboratory.intrinsic+json": {
              "type": "string"
            }
          },
          "metadata": {},
          "execution_count": 32
        }
      ],
      "source": [
        "import math\n",
        "import numpy as np\n",
        "\n",
        "mensagem = \"O vento suave balançava as folhas das árvores.\"\n",
        "mensagem = list(mensagem)\n",
        "chave = 'HACK'\n",
        "tam_mesagem = len(mensagem)\n",
        "tam_chave = len(chave)\n",
        "\n",
        "col = tam_chave\n",
        "li = int(math.ceil(tam_mesagem / tam_chave))\n",
        "\n",
        "tam_matx = col * li\n",
        "if tam_mesagem < tam_matx:\n",
        "    mensagem += \"_\" * (tam_matx - tam_mesagem)\n",
        "\n",
        "matriz_palavra = [mensagem[i:i+col] for i in range(0,len(mensagem),col)]\n",
        "\n",
        "col2 = ''\n",
        "for i in range(len(matriz_palavra[0])):\n",
        "  for j in range(len(matriz_palavra)):\n",
        "    col2 += (matriz_palavra[j][i])\n",
        "\n",
        "\n",
        "col_para_chaves = [col2[i:i+li] for i in range(0,len(col2),li)] # rp\n",
        "\n",
        "\n",
        "dict_chave = dict()\n",
        "\n",
        "cont = 0\n",
        "\n",
        "for i in (col_para_chaves):\n",
        "  id = chave[cont]\n",
        "  dict_chave[id] = i\n",
        "  cont+=1\n",
        "\n",
        "chave_ordenada = sorted(dict_chave)\n",
        "\n",
        "chave\n",
        "cifrando_com_dict = []\n",
        "\n",
        "for i in chave_ordenada:\n",
        "  cifrando_com_dict.append(dict_chave[i])\n",
        "\n",
        "cifra1 = ''.join(cifrando_com_dict)\n",
        "\n",
        "cifra1\n",
        "\n",
        "\n",
        "\n"
      ]
    },
    {
      "cell_type": "code",
      "source": [],
      "metadata": {
        "id": "LmCNgblgMBsl"
      },
      "execution_count": null,
      "outputs": []
    },
    {
      "cell_type": "markdown",
      "source": [
        "## Teste atividade 3  (Atividade de quebrar cifra de deslocamento)"
      ],
      "metadata": {
        "id": "jJc4m4tEZ5iy"
      }
    },
    {
      "cell_type": "code",
      "source": [
        "\n",
        "\n",
        "def limpar_texto(texto):\n",
        "\n",
        "  \"\"\" Remove acentos e caracteres especiais de um texto e retorna o texto limpo. \"\"\"\n",
        "\n",
        "  acentos = 'áàãâéèêíìóòõôúùûçÁÀÃÂÉÈÊÍÌÓÒÕÔÚÙÛÇ'\n",
        "  sem_acentos = 'aaaaeeeiioooouuucAAAAEEEIIOOOOUUUC'\n",
        "\n",
        "\n",
        "  caracteres = \":;{,/\\|?}$.!?,#@&%*()_-=+%¨¨\" \"ªº°' '0123456789\"\n",
        "  texto_limpo = \"\"\n",
        "\n",
        "  tabela = str.maketrans(acentos, sem_acentos)\n",
        "  texto_sem_acentos = texto.translate(tabela)\n",
        "\n",
        "  for letra in texto_sem_acentos:\n",
        "    if letra not in caracteres:\n",
        "        texto_limpo += letra\n",
        "\n",
        "\n",
        "  return texto_limpo\n"
      ],
      "metadata": {
        "id": "rUEjk_5Rdc56"
      },
      "execution_count": null,
      "outputs": []
    },
    {
      "cell_type": "code",
      "source": [
        "\n",
        "texto_3000_letras = 'A Revolução Tecnológica e seu Impacto na Sociedade Nos últimos anos, temos testemunhado uma revolução tecnológica sem precedentes que está moldando a sociedade de maneiras profundas e duradouras. A tecnologia está avançando a uma velocidade impressionante, transformando a forma como vivemos, trabalhamos e nos relacionamos. Neste texto, exploraremos o impacto dessa revolução tecnológica em diferentes aspectos da vida cotidiana e discutiremos as implicações, desafios e oportunidades que ela traz. 1. Comunicação e Conectividade A revolução tecnológica trouxe consigo um aumento sem precedentes na comunicação e conectividade. Smartphones, mídias sociais e aplicativos de mensagens instantâneas tornaram mais fácil do que nunca nos conectarmos com pessoas ao redor do mundo. Isso tem implicações profundas em nossas vidas, desde como mantemos contato com amigos e familiares até como fazemos negócios globalmente. No entanto, também trouxe desafios, como a privacidade e a dependência excessiva da tecnologia. 2. Trabalho e Automação A automação e a inteligência artificial estão transformando a natureza do trabalho. Muitos empregos estão sendo automatizados, o que levanta questões sobre o futuro do emprego e da economia. Por outro lado, a tecnologia está criando novas oportunidades e campos de trabalho. A capacidade de trabalhar remotamente e o surgimento de gig economy estão redefinindo a forma como ganhamos a vida. 3. Educação e Aprendizado A tecnologia está revolucionando a educação e o aprendizado. Plataformas de ensino online, aulas virtuais e recursos de aprendizado digital estão democratizando o acesso à educação. No entanto, isso também levanta questões sobre a qualidade da educação e o impacto nas instituições educacionais tradicionais. Como equilibrar a tecnologia com métodos de ensino mais tradicionais é um desafio em constante evolução. 4. Saúde e Medicina A tecnologia está desempenhando um papel fundamental na melhoria da assistência médica. Desde dispositivos médicos avançados até diagnósticos por inteligência artificial, a medicina está se beneficiando de inovações tecnológicas. No entanto, também existem preocupações sobre questões éticas, como a privacidade de dados de pacientes e a disseminação de informações médicas imprecisas na internet. 5. Meio Ambiente e Sustentabilidade A tecnologia também desempenha um papel crítico na abordagem de desafios ambientais. Soluções de energia limpa, monitoramento ambiental e práticas agrícolas sustentáveis são possíveis graças à tecnologia. No entanto, o consumo de recursos para produzir dispositivos eletrônicos e a gestão de resíduos eletrônicos representam desafios significativos para a sustentabilidade. 6. Privacidade e Segurança A coleta massiva de dados e a interconectividade levantam sérias preocupações sobre a privacidade e segurança dos dados. As violações de dados se tornaram comuns, e a coleta de informações pessoais por grandes empresas de tecnologia levanta questões sobre quem detém o poder sobre nossos dados e como eles são usados. 7. Cultura e Entretenimento A revolução tecnológica também transformou a forma como consumimos cultura e entretenimento. Streaming de vídeo, música sob demanda e jogos online se tornaram onipresentes. Isso criou novas oportunidades para criadores de conteúdo, mas também levantou questões sobre a monetização e os direitos autorais. 8. Sociedade Digital e Desigualdade A divisão digital entre aqueles que têm acesso à tecnologia e aqueles que não têm está se tornando uma nova forma de desigualdade. O acesso à internet e dispositivos tecnológicos é essencial para participar plenamente da sociedade moderna. A falta de acesso pode resultar em exclusão de oportunidades econômicas e sociais. 9. Ética e Responsabilidade A revolução tecnológica também levanta questões éticas fundamentais. A inteligência artificial, por exemplo, levanta preocupações sobre decisões automatizadas e preconceitos algorítmicos. As empresas de tecnologia também são confrontadas com questões de responsabilidade em relação ao conteúdo que é compartilhado em suas plataformas. 10. Futuro da Revolução Tecnológica O futuro da revolução tecnológica é incerto, mas é claro que a tecnologia continuará a desempenhar um papel central em nossas vidas. Avanços em áreas como computação quântica, biotecnologia e energia limpa estão no horizonte, trazendo a promessa de mudanças ainda mais profundas. Conclusão: A revolução tecnológica está remodelando nossa sociedade de maneiras inimagináveis. Ela oferece oportunidades incríveis, desde melhorias na assistência médica até novas formas de comunicação. No entanto, também traz consigo desafios significativos, como questões de privacidade, desigualdade digital e dilemas éticos. À medida que avançamos nessa era de mudanças rápidas, é fundamental que abordemos esses desafios com cuidado e responsabilidade, para garantir que a tecnologia beneficie a humanidade como um todo.'\n",
        "texto = texto_3000_letras.upper()\n",
        "\n",
        "texto\n",
        "\n",
        "frase = limpar_texto(texto)\n",
        "frase\n",
        "# len(frase)"
      ],
      "metadata": {
        "colab": {
          "base_uri": "https://localhost:8080/",
          "height": 122
        },
        "id": "iRcXh4CgqMkn",
        "outputId": "578030a2-99d5-4a55-d9f2-25c06d5f00ff"
      },
      "execution_count": null,
      "outputs": [
        {
          "output_type": "execute_result",
          "data": {
            "text/plain": [
              "'AREVOLUCAOTECNOLOGICAESEUIMPACTONASOCIEDADENOSULTIMOSANOSTEMOSTESTEMUNHADOUMAREVOLUCAOTECNOLOGICASEMPRECEDENTESQUEESTAMOLDANDOASOCIEDADEDEMANEIRASPROFUNDASEDURADOURASATECNOLOGIAESTAAVANCANDOAUMAVELOCIDADEIMPRESSIONANTETRANSFORMANDOAFORMACOMOVIVEMOSTRABALHAMOSENOSRELACIONAMOSNESTETEXTOEXPLORAREMOSOIMPACTODESSAREVOLUCAOTECNOLOGICAEMDIFERENTESASPECTOSDAVIDACOTIDIANAEDISCUTIREMOSASIMPLICACOESDESAFIOSEOPORTUNIDADESQUEELATRAZCOMUNICACAOECONECTIVIDADEAREVOLUCAOTECNOLOGICATROUXECONSIGOUMAUMENTOSEMPRECEDENTESNACOMUNICACAOECONECTIVIDADESMARTPHONESMIDIASSOCIAISEAPLICATIVOSDEMENSAGENSINSTANTANEASTORNARAMMAISFACILDOQUENUNCANOSCONECTARMOSCOMPESSOASAOREDORDOMUNDOISSOTEMIMPLICACOESPROFUNDASEMNOSSASVIDASDESDECOMOMANTEMOSCONTATOCOMAMIGOSEFAMILIARESATECOMOFAZEMOSNEGOCIOSGLOBALMENTENOENTANTOTAMBEMTROUXEDESAFIOSCOMOAPRIVACIDADEEADEPENDENCIAEXCESSIVADATECNOLOGIATRABALHOEAUTOMACAOAAUTOMACAOEAINTELIGENCIAARTIFICIALESTAOTRANSFORMANDOANATUREZADOTRABALHOMUITOSEMPREGOSESTAOSENDOAUTOMATIZADOSOQUELEVANTAQUESTOESSOBREOFUTURODOEMPREGOEDAECONOMIAPOROUTROLADOATECNOLOGIAESTACRIANDONOVASOPORTUNIDADESECAMPOSDETRABALHOACAPACIDADEDETRABALHARREMOTAMENTEEOSURGIMENTODEGIGECONOMYESTAOREDEFININDOAFORMACOMOGANHAMOSAVIDAEDUCACAOEAPRENDIZADOATECNOLOGIAESTAREVOLUCIONANDOAEDUCACAOEOAPRENDIZADOPLATAFORMASDEENSINOONLINEAULASVIRTUAISERECURSOSDEAPRENDIZADODIGITALESTAODEMOCRATIZANDOOACESSOAEDUCACAONOENTANTOISSOTAMBEMLEVANTAQUESTOESSOBREAQUALIDADEDAEDUCACAOEOIMPACTONASINSTITUICOESEDUCACIONAISTRADICIONAISCOMOEQUILIBRARATECNOLOGIACOMMETODOSDEENSINOMAISTRADICIONAISEUMDESAFIOEMCONSTANTEEVOLUCAOSAUDEEMEDICINAATECNOLOGIAESTADESEMPENHANDOUMPAPELFUNDAMENTALNAMELHORIADAASSISTENCIAMEDICADESDEDISPOSITIVOSMEDICOSAVANCADOSATEDIAGNOSTICOSPORINTELIGENCIAARTIFICIALAMEDICINAESTASEBENEFICIANDODEINOVACOESTECNOLOGICASNOENTANTOTAMBEMEXISTEMPREOCUPACOESSOBREQUESTOESETICASCOMOAPRIVACIDADEDEDADOSDEPACIENTESEADISSEMINACAODEINFORMACOESMEDICASIMPRECISASNAINTERNETMEIOAMBIENTEESUSTENTABILIDADEATECNOLOGIATAMBEMDESEMPENHAUMPAPELCRITICONAABORDAGEMDEDESAFIOSAMBIENTAISSOLUCOESDEENERGIALIMPAMONITORAMENTOAMBIENTALEPRATICASAGRICOLASSUSTENTAVEISSAOPOSSIVEISGRACASATECNOLOGIANOENTANTOOCONSUMODERECURSOSPARAPRODUZIRDISPOSITIVOSELETRONICOSEAGESTAODERESIDUOSELETRONICOSREPRESENTAMDESAFIOSSIGNIFICATIVOSPARAASUSTENTABILIDADEPRIVACIDADEESEGURANCAACOLETAMASSIVADEDADOSEAINTERCONECTIVIDADELEVANTAMSERIASPREOCUPACOESSOBREAPRIVACIDADEESEGURANCADOSDADOSASVIOLACOESDEDADOSSETORNARAMCOMUNSEACOLETADEINFORMACOESPESSOAISPORGRANDESEMPRESASDETECNOLOGIALEVANTAQUESTOESSOBREQUEMDETEMOPODERSOBRENOSSOSDADOSECOMOELESSAOUSADOSCULTURAEENTRETENIMENTOAREVOLUCAOTECNOLOGICATAMBEMTRANSFORMOUAFORMACOMOCONSUMIMOSCULTURAEENTRETENIMENTOSTREAMINGDEVIDEOMUSICASOBDEMANDAEJOGOSONLINESETORNARAMONIPRESENTESISSOCRIOUNOVASOPORTUNIDADESPARACRIADORESDECONTEUDOMASTAMBEMLEVANTOUQUESTOESSOBREAMONETIZACAOEOSDIREITOSAUTORAISSOCIEDADEDIGITALEDESIGUALDADEADIVISAODIGITALENTREAQUELESQUETEMACESSOATECNOLOGIAEAQUELESQUENAOTEMESTASETORNANDOUMANOVAFORMADEDESIGUALDADEOACESSOAINTERNETEDISPOSITIVOSTECNOLOGICOSEESSENCIALPARAPARTICIPARPLENAMENTEDASOCIEDADEMODERNAAFALTADEACESSOPODERESULTAREMEXCLUSAODEOPORTUNIDADESECONOMICASESOCIAISETICAERESPONSABILIDADEAREVOLUCAOTECNOLOGICATAMBEMLEVANTAQUESTOESETICASFUNDAMENTAISAINTELIGENCIAARTIFICIALPOREXEMPLOLEVANTAPREOCUPACOESSOBREDECISOESAUTOMATIZADASEPRECONCEITOSALGORITMICOSASEMPRESASDETECNOLOGIATAMBEMSAOCONFRONTADASCOMQUESTOESDERESPONSABILIDADEEMRELACAOAOCONTEUDOQUEECOMPARTILHADOEMSUASPLATAFORMASFUTURODAREVOLUCAOTECNOLOGICAOFUTURODAREVOLUCAOTECNOLOGICAEINCERTOMASECLAROQUEATECNOLOGIACONTINUARAADESEMPENHARUMPAPELCENTRALEMNOSSASVIDASAVANCOSEMAREASCOMOCOMPUTACAOQUANTICABIOTECNOLOGIAEENERGIALIMPAESTAONOHORIZONTETRAZENDOAPROMESSADEMUDANCASAINDAMAISPROFUNDASCONCLUSAOAREVOLUCAOTECNOLOGICAESTAREMODELANDONOSSASOCIEDADEDEMANEIRASINIMAGINAVEISELAOFERECEOPORTUNIDADESINCRIVEISDESDEMELHORIASNAASSISTENCIAMEDICAATENOVASFORMASDECOMUNICACAONOENTANTOTAMBEMTRAZCONSIGODESAFIOSSIGNIFICATIVOSCOMOQUESTOESDEPRIVACIDADEDESIGUALDADEDIGITALEDILEMASETICOSAMEDIDAQUEAVANCAMOSNESSAERADEMUDANCASRAPIDASEFUNDAMENTALQUEABORDEMOSESSESDESAFIOSCOMCUIDADOERESPONSABILIDADEPARAGARANTIRQUEATECNOLOGIABENEFICIEAHUMANIDADECOMOUMTODO'"
            ],
            "application/vnd.google.colaboratory.intrinsic+json": {
              "type": "string"
            }
          },
          "metadata": {},
          "execution_count": 8
        }
      ]
    },
    {
      "cell_type": "code",
      "source": [
        "# alf = 'ABCDEFGHIJKLMNOPQRSTUVWXYZ123456789\" \"'\n",
        "alf = 'ABCDEFGHIJKLMNOPQRSTUVWXYZ'\n",
        "\n",
        "# texto = 'AGUA DE COCO E CERVIJINHA'\n",
        "# texto = texto_1000_letras.upper()\n",
        "\n",
        "\n",
        "k = 18\n",
        "\n",
        "def cifra_deslocamento(mensagem, alfabeto, numkey):\n",
        "  crip = ''\n",
        "  for i in mensagem:\n",
        "      id = alfabeto.index(i)\n",
        "      id = (id + numkey) % len(alfabeto)\n",
        "      crip += alfabeto[id]\n",
        "  return crip\n",
        "\n",
        "\n",
        "crip = cifra_deslocamento(frase,alf,k)\n",
        "\n",
        "descrip = cifra_deslocamento(crip,alf, -k)\n",
        "\n",
        "\n",
        "print(f'Mensagem encriptografada: {crip}\\nMensageM descriptografada: {descrip}')\n",
        "\n",
        "\n",
        "\n",
        "\n",
        "\n"
      ],
      "metadata": {
        "colab": {
          "base_uri": "https://localhost:8080/"
        },
        "id": "5M-Iq7PAZ-Ws",
        "outputId": "b4fa200f-a5e1-4b02-fcd8-812955ea50e7"
      },
      "execution_count": null,
      "outputs": [
        {
          "output_type": "stream",
          "name": "stdout",
          "text": [
            "Mensagem encriptografada: SJWNGDMUSGLWUFGDGYAUSWKWMAEHSULGFSKGUAWVSVWFGKMDLAEGKSFGKLWEGKLWKLWEMFZSVGMESJWNGDMUSGLWUFGDGYAUSKWEHJWUWVWFLWKIMWWKLSEGDVSFVGSKGUAWVSVWVWESFWAJSKHJGXMFVSKWVMJSVGMJSKSLWUFGDGYASWKLSSNSFUSFVGSMESNWDGUAVSVWAEHJWKKAGFSFLWLJSFKXGJESFVGSXGJESUGEGNANWEGKLJSTSDZSEGKWFGKJWDSUAGFSEGKFWKLWLWPLGWPHDGJSJWEGKGAEHSULGVWKKSJWNGDMUSGLWUFGDGYAUSWEVAXWJWFLWKSKHWULGKVSNAVSUGLAVASFSWVAKUMLAJWEGKSKAEHDAUSUGWKVWKSXAGKWGHGJLMFAVSVWKIMWWDSLJSRUGEMFAUSUSGWUGFWULANAVSVWSJWNGDMUSGLWUFGDGYAUSLJGMPWUGFKAYGMESMEWFLGKWEHJWUWVWFLWKFSUGEMFAUSUSGWUGFWULANAVSVWKESJLHZGFWKEAVASKKGUASAKWSHDAUSLANGKVWEWFKSYWFKAFKLSFLSFWSKLGJFSJSEESAKXSUADVGIMWFMFUSFGKUGFWULSJEGKUGEHWKKGSKSGJWVGJVGEMFVGAKKGLWEAEHDAUSUGWKHJGXMFVSKWEFGKKSKNAVSKVWKVWUGEGESFLWEGKUGFLSLGUGESEAYGKWXSEADASJWKSLWUGEGXSRWEGKFWYGUAGKYDGTSDEWFLWFGWFLSFLGLSETWELJGMPWVWKSXAGKUGEGSHJANSUAVSVWWSVWHWFVWFUASWPUWKKANSVSLWUFGDGYASLJSTSDZGWSMLGESUSGSSMLGESUSGWSAFLWDAYWFUASSJLAXAUASDWKLSGLJSFKXGJESFVGSFSLMJWRSVGLJSTSDZGEMALGKWEHJWYGKWKLSGKWFVGSMLGESLARSVGKGIMWDWNSFLSIMWKLGWKKGTJWGXMLMJGVGWEHJWYGWVSWUGFGEASHGJGMLJGDSVGSLWUFGDGYASWKLSUJASFVGFGNSKGHGJLMFAVSVWKWUSEHGKVWLJSTSDZGSUSHSUAVSVWVWLJSTSDZSJJWEGLSEWFLWWGKMJYAEWFLGVWYAYWUGFGEQWKLSGJWVWXAFAFVGSXGJESUGEGYSFZSEGKSNAVSWVMUSUSGWSHJWFVARSVGSLWUFGDGYASWKLSJWNGDMUAGFSFVGSWVMUSUSGWGSHJWFVARSVGHDSLSXGJESKVWWFKAFGGFDAFWSMDSKNAJLMSAKWJWUMJKGKVWSHJWFVARSVGVAYALSDWKLSGVWEGUJSLARSFVGGSUWKKGSWVMUSUSGFGWFLSFLGAKKGLSETWEDWNSFLSIMWKLGWKKGTJWSIMSDAVSVWVSWVMUSUSGWGAEHSULGFSKAFKLALMAUGWKWVMUSUAGFSAKLJSVAUAGFSAKUGEGWIMADATJSJSLWUFGDGYASUGEEWLGVGKVWWFKAFGESAKLJSVAUAGFSAKWMEVWKSXAGWEUGFKLSFLWWNGDMUSGKSMVWWEWVAUAFSSLWUFGDGYASWKLSVWKWEHWFZSFVGMEHSHWDXMFVSEWFLSDFSEWDZGJASVSSKKAKLWFUASEWVAUSVWKVWVAKHGKALANGKEWVAUGKSNSFUSVGKSLWVASYFGKLAUGKHGJAFLWDAYWFUASSJLAXAUASDSEWVAUAFSWKLSKWTWFWXAUASFVGVWAFGNSUGWKLWUFGDGYAUSKFGWFLSFLGLSETWEWPAKLWEHJWGUMHSUGWKKGTJWIMWKLGWKWLAUSKUGEGSHJANSUAVSVWVWVSVGKVWHSUAWFLWKWSVAKKWEAFSUSGVWAFXGJESUGWKEWVAUSKAEHJWUAKSKFSAFLWJFWLEWAGSETAWFLWWKMKLWFLSTADAVSVWSLWUFGDGYASLSETWEVWKWEHWFZSMEHSHWDUJALAUGFSSTGJVSYWEVWVWKSXAGKSETAWFLSAKKGDMUGWKVWWFWJYASDAEHSEGFALGJSEWFLGSETAWFLSDWHJSLAUSKSYJAUGDSKKMKLWFLSNWAKKSGHGKKANWAKYJSUSKSLWUFGDGYASFGWFLSFLGGUGFKMEGVWJWUMJKGKHSJSHJGVMRAJVAKHGKALANGKWDWLJGFAUGKWSYWKLSGVWJWKAVMGKWDWLJGFAUGKJWHJWKWFLSEVWKSXAGKKAYFAXAUSLANGKHSJSSKMKLWFLSTADAVSVWHJANSUAVSVWWKWYMJSFUSSUGDWLSESKKANSVWVSVGKWSAFLWJUGFWULANAVSVWDWNSFLSEKWJASKHJWGUMHSUGWKKGTJWSHJANSUAVSVWWKWYMJSFUSVGKVSVGKSKNAGDSUGWKVWVSVGKKWLGJFSJSEUGEMFKWSUGDWLSVWAFXGJESUGWKHWKKGSAKHGJYJSFVWKWEHJWKSKVWLWUFGDGYASDWNSFLSIMWKLGWKKGTJWIMWEVWLWEGHGVWJKGTJWFGKKGKVSVGKWUGEGWDWKKSGMKSVGKUMDLMJSWWFLJWLWFAEWFLGSJWNGDMUSGLWUFGDGYAUSLSETWELJSFKXGJEGMSXGJESUGEGUGFKMEAEGKUMDLMJSWWFLJWLWFAEWFLGKLJWSEAFYVWNAVWGEMKAUSKGTVWESFVSWBGYGKGFDAFWKWLGJFSJSEGFAHJWKWFLWKAKKGUJAGMFGNSKGHGJLMFAVSVWKHSJSUJASVGJWKVWUGFLWMVGESKLSETWEDWNSFLGMIMWKLGWKKGTJWSEGFWLARSUSGWGKVAJWALGKSMLGJSAKKGUAWVSVWVAYALSDWVWKAYMSDVSVWSVANAKSGVAYALSDWFLJWSIMWDWKIMWLWESUWKKGSLWUFGDGYASWSIMWDWKIMWFSGLWEWKLSKWLGJFSFVGMESFGNSXGJESVWVWKAYMSDVSVWGSUWKKGSAFLWJFWLWVAKHGKALANGKLWUFGDGYAUGKWWKKWFUASDHSJSHSJLAUAHSJHDWFSEWFLWVSKGUAWVSVWEGVWJFSSXSDLSVWSUWKKGHGVWJWKMDLSJWEWPUDMKSGVWGHGJLMFAVSVWKWUGFGEAUSKWKGUASAKWLAUSWJWKHGFKSTADAVSVWSJWNGDMUSGLWUFGDGYAUSLSETWEDWNSFLSIMWKLGWKWLAUSKXMFVSEWFLSAKSAFLWDAYWFUASSJLAXAUASDHGJWPWEHDGDWNSFLSHJWGUMHSUGWKKGTJWVWUAKGWKSMLGESLARSVSKWHJWUGFUWALGKSDYGJALEAUGKSKWEHJWKSKVWLWUFGDGYASLSETWEKSGUGFXJGFLSVSKUGEIMWKLGWKVWJWKHGFKSTADAVSVWWEJWDSUSGSGUGFLWMVGIMWWUGEHSJLADZSVGWEKMSKHDSLSXGJESKXMLMJGVSJWNGDMUSGLWUFGDGYAUSGXMLMJGVSJWNGDMUSGLWUFGDGYAUSWAFUWJLGESKWUDSJGIMWSLWUFGDGYASUGFLAFMSJSSVWKWEHWFZSJMEHSHWDUWFLJSDWEFGKKSKNAVSKSNSFUGKWESJWSKUGEGUGEHMLSUSGIMSFLAUSTAGLWUFGDGYASWWFWJYASDAEHSWKLSGFGZGJARGFLWLJSRWFVGSHJGEWKKSVWEMVSFUSKSAFVSESAKHJGXMFVSKUGFUDMKSGSJWNGDMUSGLWUFGDGYAUSWKLSJWEGVWDSFVGFGKKSKGUAWVSVWVWESFWAJSKAFAESYAFSNWAKWDSGXWJWUWGHGJLMFAVSVWKAFUJANWAKVWKVWEWDZGJASKFSSKKAKLWFUASEWVAUSSLWFGNSKXGJESKVWUGEMFAUSUSGFGWFLSFLGLSETWELJSRUGFKAYGVWKSXAGKKAYFAXAUSLANGKUGEGIMWKLGWKVWHJANSUAVSVWVWKAYMSDVSVWVAYALSDWVADWESKWLAUGKSEWVAVSIMWSNSFUSEGKFWKKSWJSVWEMVSFUSKJSHAVSKWXMFVSEWFLSDIMWSTGJVWEGKWKKWKVWKSXAGKUGEUMAVSVGWJWKHGFKSTADAVSVWHSJSYSJSFLAJIMWSLWUFGDGYASTWFWXAUAWSZMESFAVSVWUGEGMELGVG\n",
            "MensageM descriptografada: AREVOLUCAOTECNOLOGICAESEUIMPACTONASOCIEDADENOSULTIMOSANOSTEMOSTESTEMUNHADOUMAREVOLUCAOTECNOLOGICASEMPRECEDENTESQUEESTAMOLDANDOASOCIEDADEDEMANEIRASPROFUNDASEDURADOURASATECNOLOGIAESTAAVANCANDOAUMAVELOCIDADEIMPRESSIONANTETRANSFORMANDOAFORMACOMOVIVEMOSTRABALHAMOSENOSRELACIONAMOSNESTETEXTOEXPLORAREMOSOIMPACTODESSAREVOLUCAOTECNOLOGICAEMDIFERENTESASPECTOSDAVIDACOTIDIANAEDISCUTIREMOSASIMPLICACOESDESAFIOSEOPORTUNIDADESQUEELATRAZCOMUNICACAOECONECTIVIDADEAREVOLUCAOTECNOLOGICATROUXECONSIGOUMAUMENTOSEMPRECEDENTESNACOMUNICACAOECONECTIVIDADESMARTPHONESMIDIASSOCIAISEAPLICATIVOSDEMENSAGENSINSTANTANEASTORNARAMMAISFACILDOQUENUNCANOSCONECTARMOSCOMPESSOASAOREDORDOMUNDOISSOTEMIMPLICACOESPROFUNDASEMNOSSASVIDASDESDECOMOMANTEMOSCONTATOCOMAMIGOSEFAMILIARESATECOMOFAZEMOSNEGOCIOSGLOBALMENTENOENTANTOTAMBEMTROUXEDESAFIOSCOMOAPRIVACIDADEEADEPENDENCIAEXCESSIVADATECNOLOGIATRABALHOEAUTOMACAOAAUTOMACAOEAINTELIGENCIAARTIFICIALESTAOTRANSFORMANDOANATUREZADOTRABALHOMUITOSEMPREGOSESTAOSENDOAUTOMATIZADOSOQUELEVANTAQUESTOESSOBREOFUTURODOEMPREGOEDAECONOMIAPOROUTROLADOATECNOLOGIAESTACRIANDONOVASOPORTUNIDADESECAMPOSDETRABALHOACAPACIDADEDETRABALHARREMOTAMENTEEOSURGIMENTODEGIGECONOMYESTAOREDEFININDOAFORMACOMOGANHAMOSAVIDAEDUCACAOEAPRENDIZADOATECNOLOGIAESTAREVOLUCIONANDOAEDUCACAOEOAPRENDIZADOPLATAFORMASDEENSINOONLINEAULASVIRTUAISERECURSOSDEAPRENDIZADODIGITALESTAODEMOCRATIZANDOOACESSOAEDUCACAONOENTANTOISSOTAMBEMLEVANTAQUESTOESSOBREAQUALIDADEDAEDUCACAOEOIMPACTONASINSTITUICOESEDUCACIONAISTRADICIONAISCOMOEQUILIBRARATECNOLOGIACOMMETODOSDEENSINOMAISTRADICIONAISEUMDESAFIOEMCONSTANTEEVOLUCAOSAUDEEMEDICINAATECNOLOGIAESTADESEMPENHANDOUMPAPELFUNDAMENTALNAMELHORIADAASSISTENCIAMEDICADESDEDISPOSITIVOSMEDICOSAVANCADOSATEDIAGNOSTICOSPORINTELIGENCIAARTIFICIALAMEDICINAESTASEBENEFICIANDODEINOVACOESTECNOLOGICASNOENTANTOTAMBEMEXISTEMPREOCUPACOESSOBREQUESTOESETICASCOMOAPRIVACIDADEDEDADOSDEPACIENTESEADISSEMINACAODEINFORMACOESMEDICASIMPRECISASNAINTERNETMEIOAMBIENTEESUSTENTABILIDADEATECNOLOGIATAMBEMDESEMPENHAUMPAPELCRITICONAABORDAGEMDEDESAFIOSAMBIENTAISSOLUCOESDEENERGIALIMPAMONITORAMENTOAMBIENTALEPRATICASAGRICOLASSUSTENTAVEISSAOPOSSIVEISGRACASATECNOLOGIANOENTANTOOCONSUMODERECURSOSPARAPRODUZIRDISPOSITIVOSELETRONICOSEAGESTAODERESIDUOSELETRONICOSREPRESENTAMDESAFIOSSIGNIFICATIVOSPARAASUSTENTABILIDADEPRIVACIDADEESEGURANCAACOLETAMASSIVADEDADOSEAINTERCONECTIVIDADELEVANTAMSERIASPREOCUPACOESSOBREAPRIVACIDADEESEGURANCADOSDADOSASVIOLACOESDEDADOSSETORNARAMCOMUNSEACOLETADEINFORMACOESPESSOAISPORGRANDESEMPRESASDETECNOLOGIALEVANTAQUESTOESSOBREQUEMDETEMOPODERSOBRENOSSOSDADOSECOMOELESSAOUSADOSCULTURAEENTRETENIMENTOAREVOLUCAOTECNOLOGICATAMBEMTRANSFORMOUAFORMACOMOCONSUMIMOSCULTURAEENTRETENIMENTOSTREAMINGDEVIDEOMUSICASOBDEMANDAEJOGOSONLINESETORNARAMONIPRESENTESISSOCRIOUNOVASOPORTUNIDADESPARACRIADORESDECONTEUDOMASTAMBEMLEVANTOUQUESTOESSOBREAMONETIZACAOEOSDIREITOSAUTORAISSOCIEDADEDIGITALEDESIGUALDADEADIVISAODIGITALENTREAQUELESQUETEMACESSOATECNOLOGIAEAQUELESQUENAOTEMESTASETORNANDOUMANOVAFORMADEDESIGUALDADEOACESSOAINTERNETEDISPOSITIVOSTECNOLOGICOSEESSENCIALPARAPARTICIPARPLENAMENTEDASOCIEDADEMODERNAAFALTADEACESSOPODERESULTAREMEXCLUSAODEOPORTUNIDADESECONOMICASESOCIAISETICAERESPONSABILIDADEAREVOLUCAOTECNOLOGICATAMBEMLEVANTAQUESTOESETICASFUNDAMENTAISAINTELIGENCIAARTIFICIALPOREXEMPLOLEVANTAPREOCUPACOESSOBREDECISOESAUTOMATIZADASEPRECONCEITOSALGORITMICOSASEMPRESASDETECNOLOGIATAMBEMSAOCONFRONTADASCOMQUESTOESDERESPONSABILIDADEEMRELACAOAOCONTEUDOQUEECOMPARTILHADOEMSUASPLATAFORMASFUTURODAREVOLUCAOTECNOLOGICAOFUTURODAREVOLUCAOTECNOLOGICAEINCERTOMASECLAROQUEATECNOLOGIACONTINUARAADESEMPENHARUMPAPELCENTRALEMNOSSASVIDASAVANCOSEMAREASCOMOCOMPUTACAOQUANTICABIOTECNOLOGIAEENERGIALIMPAESTAONOHORIZONTETRAZENDOAPROMESSADEMUDANCASAINDAMAISPROFUNDASCONCLUSAOAREVOLUCAOTECNOLOGICAESTAREMODELANDONOSSASOCIEDADEDEMANEIRASINIMAGINAVEISELAOFERECEOPORTUNIDADESINCRIVEISDESDEMELHORIASNAASSISTENCIAMEDICAATENOVASFORMASDECOMUNICACAONOENTANTOTAMBEMTRAZCONSIGODESAFIOSSIGNIFICATIVOSCOMOQUESTOESDEPRIVACIDADEDESIGUALDADEDIGITALEDILEMASETICOSAMEDIDAQUEAVANCAMOSNESSAERADEMUDANCASRAPIDASEFUNDAMENTALQUEABORDEMOSESSESDESAFIOSCOMCUIDADOERESPONSABILIDADEPARAGARANTIRQUEATECNOLOGIABENEFICIEAHUMANIDADECOMOUMTODO\n"
          ]
        }
      ]
    },
    {
      "cell_type": "code",
      "source": [
        "# novo alfabeto com deslocamento da key\n",
        "chave_alf = [alf[((alf.index(i)+ k )% len(alf))] for i in alf]\n",
        "\n",
        "\n",
        "for i in  range(len(alf)):\n",
        "  print(f'alfabeto original: {alf[i]}, deslocado: {chave_alf[i]}')"
      ],
      "metadata": {
        "id": "ZrRb_2tLvW5R",
        "colab": {
          "base_uri": "https://localhost:8080/"
        },
        "outputId": "de90009b-a69c-489c-9f50-39ec49bf68cf"
      },
      "execution_count": null,
      "outputs": [
        {
          "output_type": "stream",
          "name": "stdout",
          "text": [
            "alfabeto original: A, deslocado: S\n",
            "alfabeto original: B, deslocado: T\n",
            "alfabeto original: C, deslocado: U\n",
            "alfabeto original: D, deslocado: V\n",
            "alfabeto original: E, deslocado: W\n",
            "alfabeto original: F, deslocado: X\n",
            "alfabeto original: G, deslocado: Y\n",
            "alfabeto original: H, deslocado: Z\n",
            "alfabeto original: I, deslocado: A\n",
            "alfabeto original: J, deslocado: B\n",
            "alfabeto original: K, deslocado: C\n",
            "alfabeto original: L, deslocado: D\n",
            "alfabeto original: M, deslocado: E\n",
            "alfabeto original: N, deslocado: F\n",
            "alfabeto original: O, deslocado: G\n",
            "alfabeto original: P, deslocado: H\n",
            "alfabeto original: Q, deslocado: I\n",
            "alfabeto original: R, deslocado: J\n",
            "alfabeto original: S, deslocado: K\n",
            "alfabeto original: T, deslocado: L\n",
            "alfabeto original: U, deslocado: M\n",
            "alfabeto original: V, deslocado: N\n",
            "alfabeto original: W, deslocado: O\n",
            "alfabeto original: X, deslocado: P\n",
            "alfabeto original: Y, deslocado: Q\n",
            "alfabeto original: Z, deslocado: R\n"
          ]
        }
      ]
    },
    {
      "cell_type": "code",
      "source": [
        "# contando valores do alfaeto\n",
        "\n",
        "# contando_letras = [crip.count(i)/ len(frase) for i in alf]\n",
        "contando_letras = [frase.count(i)/ len(frase) for i in alf]\n",
        "# contando_letras = [(i,frase.count(i)) for i in alf]\n",
        "\n",
        "# contando_letras = [crip.count(i) for i in alf]\n",
        "\n",
        "# contando_letras.index(0.13285024154589373)\n",
        "print(contando_letras)\n",
        "\n",
        "Q = contando_letras\n",
        "\n"
      ],
      "metadata": {
        "colab": {
          "base_uri": "https://localhost:8080/"
        },
        "id": "OMn8QKwmu2_h",
        "outputId": "f2f835cc-0a0d-48a1-90c6-223c9234331e"
      },
      "execution_count": null,
      "outputs": [
        {
          "output_type": "stream",
          "name": "stdout",
          "text": [
            "[0.13285024154589373, 0.009178743961352657, 0.05652173913043478, 0.05821256038647343, 0.12584541062801932, 0.01038647342995169, 0.015458937198067632, 0.003864734299516908, 0.07367149758454106, 0.00024154589371980676, 0.0, 0.02995169082125604, 0.04468599033816425, 0.06183574879227053, 0.1106280193236715, 0.021497584541062802, 0.006038647342995169, 0.04565217391304348, 0.08357487922705314, 0.057971014492753624, 0.0323671497584541, 0.014009661835748793, 0.0, 0.001932367149758454, 0.00024154589371980676, 0.003381642512077295]\n"
          ]
        }
      ]
    },
    {
      "cell_type": "code",
      "source": [
        "cont = 0\n",
        "P = [14.63,1.04,3.88,4.99,12.57,1.02,1.3,1.28,6.18,0.4,0.02,2.78,4.74,5.05,10.73,2.52,1.2,6.53,7.81,4.34,4.63,1.67,0.01,0.21,0.01,0.47]\n",
        "\n",
        "P = [i/100 for i in P]\n",
        "CO = 0.073\n",
        "# Q = [0.006038647342995169,0.04565217391304348,0.08357487922705314,0.057971014492753624,0.0323671497584541,0.014009661835748793,0.0,0.001932367149758454,0.00024154589371980676,0.003381642512077295,0.13285024154589373,0.009178743961352657,0.05652173913043478,0.05821256038647343,0.12584541062801932,0.01038647342995169,0.015458937198067632,0.003864734299516908,0.07367149758454106,0.00024154589371980676,0.0,0.02995169082125604,0.04468599033816425,0.06183574879227053,0.1106280193236715,0.021497584541062802]\n",
        "\n",
        "\n",
        "\n",
        "# for k in range(len(alf)):\n",
        "#   i = [P[0] * Q[(0 + k)%len(alf)], P[1] * Q[(1 + k)%len(alf)], P[2] * Q[(2 + k)%len(alf)], P[3] * Q[(3 + k)%len(alf)], P[4] * Q[(4 + k)%len(alf)], P[5] * Q[(5 + k)%len(alf)], P[6] * Q[(6 + k)%len(alf)], P[7] * Q[(7 + k)%len(alf)], P[8] * Q[(8 + k)%len(alf)], P[9] * Q[(9 + k)%len(alf)], P[10] * Q[(10 + k)%len(alf)], P[11] * Q[(11 + k)%len(alf)], P[12] * Q[(12 + k)%len(alf)], P[13] * Q[(13 + k)%len(alf)], P[14] * Q[(14 + k)%len(alf)], P[15] * Q[(15 + k)%len(alf)], P[16] * Q[(16 + k)%len(alf)], P[17] * Q[(17 + k)%len(alf)], P[18] * Q[(18 + k)%len(alf)], P[19] * Q[(19 + k)%len(alf)], P[20] * Q[(20 + k)%len(alf)], P[21] * Q[(21 + k)%len(alf)], P[22] * Q[(22 + k)%len(alf)], P[23] * Q[(23 + k)%len(alf)], P[24] * Q[(24 + k)%len(alf)], P[25] * Q[(25 + k)%len(alf)]]\n",
        "#   LTS.append(sum(i))\n",
        "\n",
        "# print(LTS)\n",
        "\n",
        "LTS = []\n",
        "for k in range(len(alf)):\n",
        "    i = [P[j] * Q[(j + k) % len(alf)] for j in range(len(alf))]\n",
        "    LTS.append(sum(i))\n",
        "\n",
        "print(LTS)\n",
        "\n",
        "valor_aproximado = min(LTS, key=lambda x: abs(x - CO))\n",
        "\n",
        "print(valor_aproximado)\n",
        "LTS.index(valor_aproximado)\n",
        "\n"
      ],
      "metadata": {
        "id": "oRwGOMq34d02",
        "colab": {
          "base_uri": "https://localhost:8080/"
        },
        "outputId": "044fc235-782c-438e-87bf-21e6d1ff2fb4"
      },
      "execution_count": null,
      "outputs": [
        {
          "output_type": "stream",
          "name": "stdout",
          "text": [
            "[0.07769314009661839, 0.038376908212560394, 0.03521473429951691, 0.03022893719806764, 0.047373599033816424, 0.02777630434782609, 0.032543792270531405, 0.025133864734299512, 0.03935171497584541, 0.03469231884057972, 0.041073067632850256, 0.03942594202898551, 0.04806514492753624, 0.04126340579710146, 0.0523481884057971, 0.03873748792270532, 0.03837260869565217, 0.03341178743961353, 0.03854589371980676, 0.02860301932367149, 0.03375347826086956, 0.027564082125603868, 0.04604765700483091, 0.03173908212560386, 0.03407212560386473, 0.038691714975845413]\n",
            "0.07769314009661839\n"
          ]
        },
        {
          "output_type": "execute_result",
          "data": {
            "text/plain": [
              "0"
            ]
          },
          "metadata": {},
          "execution_count": 16
        }
      ]
    },
    {
      "cell_type": "code",
      "source": [],
      "metadata": {
        "id": "Hg5ux7Ej-1Bo",
        "colab": {
          "base_uri": "https://localhost:8080/"
        },
        "outputId": "a2649be0-783d-45b6-955a-d8d456d3e225"
      },
      "execution_count": null,
      "outputs": [
        {
          "output_type": "execute_result",
          "data": {
            "text/plain": [
              "1.0001"
            ]
          },
          "metadata": {},
          "execution_count": 18
        }
      ]
    },
    {
      "cell_type": "code",
      "source": [
        "# colocando para o decimal e tirando o I\n",
        "total = 0\n",
        "\n",
        "# for i in range(len(contando_letras)):\n",
        "#   contando_letras[i] = contando_letras[i]\n",
        "\n",
        "for j in range(len(Q)):\n",
        "  total += Q[j]**2\n",
        "\n",
        "total"
      ],
      "metadata": {
        "colab": {
          "base_uri": "https://localhost:8080/"
        },
        "id": "el9WWSZ5rT3j",
        "outputId": "82bec7a4-02ae-479c-96fe-a13610ec7f1a"
      },
      "execution_count": null,
      "outputs": [
        {
          "output_type": "execute_result",
          "data": {
            "text/plain": [
              "0.07908667646852903"
            ]
          },
          "metadata": {},
          "execution_count": 17
        }
      ]
    },
    {
      "cell_type": "code",
      "source": [
        "import requests\n",
        "from bs4 import BeautifulSoup\n",
        "import pandas as pd\n",
        "\n",
        "# Pegando frequência das letras na wikipedia\n",
        "\n",
        "\n",
        "# URL da página da Wikipedia em português\n",
        "url = \"https://pt.wikipedia.org/wiki/Frequ%C3%AAncia_de_letras\"\n",
        "\n",
        "# Enviar uma solicitação GET para obter o conteúdo da página\n",
        "response = requests.get(url)\n",
        "\n",
        "# Verifique se a solicitação foi bem-sucedida\n",
        "if response.status_code == 200:\n",
        "    soup = BeautifulSoup(response.content, \"html.parser\")\n",
        "\n",
        "    # Encontre a tabela desejada na página (você pode inspecionar o código-fonte da página para encontrar o nome da tabela)\n",
        "    table = soup.find(\"table\", {\"class\": \"wikitable\"})\n",
        "\n",
        "    # Use a função `read_html` do pandas para analisar a tabela HTML e criar um DataFrame\n",
        "    table_df = pd.read_html(str(table))[0]\n",
        "\n",
        "else:\n",
        "    print(\"Não foi possível acessar a página da Wikipedia em português.\")\n",
        "\n",
        "\n",
        "\n",
        "lista_pc = table_df['Frequência'].to_list()\n",
        "lista_lt = table_df['Letra'].to_list()\n",
        "\n",
        "# lista = list(zip(lista_lt, lista_pc))\n",
        "\n",
        "\n",
        "percentual = [float(i.replace('%', '')) for i in lista_pc]\n",
        "\n",
        "# for i in lista_pc:\n",
        "#   pc = float(i.replace('%', ''))\n",
        "#   print(pc)\n",
        "\n",
        "percentual\n",
        "\n"
      ],
      "metadata": {
        "colab": {
          "base_uri": "https://localhost:8080/"
        },
        "id": "F_WvKhGabd9C",
        "outputId": "386dff26-ed46-4d0e-f1a0-e364590300cd"
      },
      "execution_count": null,
      "outputs": [
        {
          "output_type": "execute_result",
          "data": {
            "text/plain": [
              "[14.63,\n",
              " 1.04,\n",
              " 3.88,\n",
              " 4.99,\n",
              " 12.57,\n",
              " 1.02,\n",
              " 1.3,\n",
              " 1.28,\n",
              " 6.18,\n",
              " 0.4,\n",
              " 0.02,\n",
              " 2.78,\n",
              " 4.74,\n",
              " 5.05,\n",
              " 10.73,\n",
              " 2.52,\n",
              " 1.2,\n",
              " 6.53,\n",
              " 7.81,\n",
              " 4.34,\n",
              " 4.63,\n",
              " 1.67,\n",
              " 0.01,\n",
              " 0.21,\n",
              " 0.01,\n",
              " 0.47]"
            ]
          },
          "metadata": {},
          "execution_count": 15
        }
      ]
    },
    {
      "cell_type": "code",
      "source": [
        "\n",
        "# por = [14.63,\n",
        "#  1.04,\n",
        "#  3.88,\n",
        "#  4.99,\n",
        "#  12.57,\n",
        "#  1.02,\n",
        "#  1.3,\n",
        "#  1.28,\n",
        "#  6.18,\n",
        "#  0.4,\n",
        "#  0.02,\n",
        "#  2.78,\n",
        "#  4.74,\n",
        "#  5.05,\n",
        "#  10.73,\n",
        "#  2.52,\n",
        "#  1.2,\n",
        "#  6.53,\n",
        "#  7.81,\n",
        "#  4.34,\n",
        "#  4.63,\n",
        "#  1.67,\n",
        "#  0.01,\n",
        "#  0.21,\n",
        "#  0.01,\n",
        "#  0.47]\n",
        "\n",
        "# por = [\n",
        "#     14.634, 11.890, 10.732, 6.529, 6.189, 6.042, 5.850, 4.736, 4.627, 4.357,\n",
        "#     4.348, 3.880, 2.775, 2.515, 1.669, 1.295, 1.283, 1.199, 1.022, 0.950,\n",
        "#     0.369, 0.210, 0.151, 0.021, 0.011, 0.011\n",
        "# ]\n",
        "\n",
        "\n",
        "\n"
      ],
      "metadata": {
        "id": "Tnn-Gk6Wpyq_"
      },
      "execution_count": null,
      "outputs": []
    }
  ],
  "metadata": {
    "colab": {
      "provenance": [],
      "collapsed_sections": [
        "QdOiJ4ytC8be",
        "pkH3VQ6oDjxw"
      ],
      "authorship_tag": "ABX9TyOa7aI2bSsx9eMPx5W0W7FS",
      "include_colab_link": true
    },
    "kernelspec": {
      "display_name": "Python 3",
      "name": "python3"
    },
    "language_info": {
      "name": "python"
    }
  },
  "nbformat": 4,
  "nbformat_minor": 0
}